{
 "cells": [
  {
   "cell_type": "code",
   "execution_count": 1,
   "id": "6f2bdd1f",
   "metadata": {},
   "outputs": [],
   "source": [
    "import os, sys\n",
    "sys.path.append(os.path.abspath(\"..\"))"
   ]
  },
  {
   "cell_type": "code",
   "execution_count": 2,
   "id": "52790095",
   "metadata": {},
   "outputs": [],
   "source": [
    "from datasets import load_dataset\n",
    "import pandas as pd\n",
    "from tqdm import tqdm\n",
    "from utils.preprocessing import normalize_arabic_text\n",
    "from utils.tokenization import load_arabic_tokenizer, expand_dataset, tokenize_batch"
   ]
  },
  {
   "cell_type": "code",
   "execution_count": 3,
   "id": "49d81d47",
   "metadata": {},
   "outputs": [
    {
     "name": "stdout",
     "output_type": "stream",
     "text": [
      "DatasetDict({\n",
      "    train: Dataset({\n",
      "        features: ['id', 'title', 'context', 'question', 'answers'],\n",
      "        num_rows: 693\n",
      "    })\n",
      "    validation: Dataset({\n",
      "        features: ['id', 'title', 'context', 'question', 'answers'],\n",
      "        num_rows: 702\n",
      "    })\n",
      "})\n"
     ]
    }
   ],
   "source": [
    "# load the ARCD dataset from HF\n",
    "dataset = load_dataset(\"hsseinmz/ARCD\")\n",
    "print(dataset)"
   ]
  },
  {
   "cell_type": "code",
   "execution_count": 4,
   "id": "fa71a378",
   "metadata": {
    "scrolled": true
   },
   "outputs": [
    {
     "name": "stdout",
     "output_type": "stream",
     "text": [
      "id: 969331847966\n",
      "title: جمال خاشقجي\n",
      "context: جمال أحمد حمزة خاشقجي (13 أكتوبر 1958، المدينة المنورة - 2 أكتوبر 2018)، صحفي وإعلامي سعودي، رأس عدّة مناصب لعدد من الصحف في السعودية، وتقلّد منصب مستشار، كما أنّه مدير عام قناة العرب الإخبارية سابقًا.\n",
      "question: - من هو جمال أحمد حمزة خاشقجي؟\n",
      "answers: {'text': ['صحفي وإعلامي'], 'answer_start': [73]}\n"
     ]
    }
   ],
   "source": [
    "sample = dataset[\"train\"][0]\n",
    "for key, val in sample.items():\n",
    "    print(f\"{key}: {val}\")"
   ]
  },
  {
   "cell_type": "code",
   "execution_count": 5,
   "id": "963800d4",
   "metadata": {},
   "outputs": [
    {
     "data": {
      "application/vnd.jupyter.widget-view+json": {
       "model_id": "4fdbaf0ff93e4ad8aa5e1c7098bb1a25",
       "version_major": 2,
       "version_minor": 0
      },
      "text/plain": [
       "Saving the dataset (0/1 shards):   0%|          | 0/693 [00:00<?, ? examples/s]"
      ]
     },
     "metadata": {},
     "output_type": "display_data"
    },
    {
     "data": {
      "application/vnd.jupyter.widget-view+json": {
       "model_id": "6a50ec6b7aea489f94142533fda29ed9",
       "version_major": 2,
       "version_minor": 0
      },
      "text/plain": [
       "Saving the dataset (0/1 shards):   0%|          | 0/702 [00:00<?, ? examples/s]"
      ]
     },
     "metadata": {},
     "output_type": "display_data"
    },
    {
     "name": "stdout",
     "output_type": "stream",
     "text": [
      "Raw dataset saved at: ../data/raw/arcd_raw\n"
     ]
    }
   ],
   "source": [
    "raw_output_dir = \"../data/raw/arcd_raw\"\n",
    "dataset.save_to_disk(raw_output_dir)\n",
    "print(f\"Raw dataset saved at: {raw_output_dir}\")"
   ]
  },
  {
   "cell_type": "code",
   "execution_count": 6,
   "id": "449e467b",
   "metadata": {},
   "outputs": [
    {
     "name": "stdout",
     "output_type": "stream",
     "text": [
      "السلام عليكم هذا اختبار\n"
     ]
    }
   ],
   "source": [
    "text = \"السَّلامُ عَلَيْكُمْ! هـذا إختِبارٌ.\"\n",
    "print(normalize_arabic_text(text))"
   ]
  },
  {
   "cell_type": "code",
   "execution_count": 7,
   "id": "d7f0df6e",
   "metadata": {},
   "outputs": [
    {
     "data": {
      "application/javascript": [
       "\n",
       "        if (window._pyforest_update_imports_cell) { window._pyforest_update_imports_cell('import re'); }\n",
       "    "
      ],
      "text/plain": [
       "<IPython.core.display.Javascript object>"
      ]
     },
     "metadata": {},
     "output_type": "display_data"
    },
    {
     "data": {
      "application/javascript": [
       "\n",
       "        if (window._pyforest_update_imports_cell) { window._pyforest_update_imports_cell('import re'); }\n",
       "    "
      ],
      "text/plain": [
       "<IPython.core.display.Javascript object>"
      ]
     },
     "metadata": {},
     "output_type": "display_data"
    }
   ],
   "source": [
    "def clean_example(example):\n",
    "    example[\"context\"] = normalize_arabic_text(example[\"context\"])\n",
    "    example[\"question\"] = normalize_arabic_text(example[\"question\"])\n",
    "    example[\"answers\"][\"text\"] = [normalize_arabic_text(a) for a in example[\"answers\"][\"text\"]]\n",
    "    return example\n",
    "\n",
    "cleaned_dataset = dataset.map(clean_example)"
   ]
  },
  {
   "cell_type": "code",
   "execution_count": 8,
   "id": "f6ad0606",
   "metadata": {},
   "outputs": [
    {
     "name": "stdout",
     "output_type": "stream",
     "text": [
      "Context: جمال احمد حمزة خاشقجي 13 اكتوبر 1958 المدينة المنورة 2 اكتوبر 2018 صحفي واعلامي سعودي راس عدة مناصب لعدد من الصحف في السعودية وتقلد منصب مستشار كما انه مدير عام قناة العرب الاخبارية سابقا\n",
      "Question: من هو جمال احمد حمزة خاشقجي\n",
      "Answer: {'text': ['صحفي واعلامي'], 'answer_start': [73]}\n"
     ]
    }
   ],
   "source": [
    "sample = cleaned_dataset[\"train\"][0]\n",
    "print(\"Context:\", sample[\"context\"][:300])\n",
    "print(\"Question:\", sample[\"question\"])\n",
    "print(\"Answer:\", sample[\"answers\"])"
   ]
  },
  {
   "cell_type": "code",
   "execution_count": 9,
   "id": "1016b228",
   "metadata": {},
   "outputs": [
    {
     "data": {
      "text/html": [
       "<div>\n",
       "<style scoped>\n",
       "    .dataframe tbody tr th:only-of-type {\n",
       "        vertical-align: middle;\n",
       "    }\n",
       "\n",
       "    .dataframe tbody tr th {\n",
       "        vertical-align: top;\n",
       "    }\n",
       "\n",
       "    .dataframe thead th {\n",
       "        text-align: right;\n",
       "    }\n",
       "</style>\n",
       "<table border=\"1\" class=\"dataframe\">\n",
       "  <thead>\n",
       "    <tr style=\"text-align: right;\">\n",
       "      <th></th>\n",
       "      <th>id</th>\n",
       "      <th>title</th>\n",
       "      <th>context</th>\n",
       "      <th>question</th>\n",
       "      <th>answers</th>\n",
       "    </tr>\n",
       "  </thead>\n",
       "  <tbody>\n",
       "    <tr>\n",
       "      <th>0</th>\n",
       "      <td>969331847966</td>\n",
       "      <td>جمال خاشقجي</td>\n",
       "      <td>جمال احمد حمزة خاشقجي 13 اكتوبر 1958 المدينة ا...</td>\n",
       "      <td>من هو جمال احمد حمزة خاشقجي</td>\n",
       "      <td>{'text': ['صحفي واعلامي'], 'answer_start': [73]}</td>\n",
       "    </tr>\n",
       "    <tr>\n",
       "      <th>1</th>\n",
       "      <td>115150665555</td>\n",
       "      <td>جمال خاشقجي</td>\n",
       "      <td>جمال احمد حمزة خاشقجي 13 اكتوبر 1958 المدينة ا...</td>\n",
       "      <td>متي ولد جمال احمد حمزة خاشقجي وتوفي ال</td>\n",
       "      <td>{'text': ['حمزة خاشقجي 13 اكتوبر 1958 المدينة ...</td>\n",
       "    </tr>\n",
       "    <tr>\n",
       "      <th>2</th>\n",
       "      <td>74212080718</td>\n",
       "      <td>جمال خاشقجي</td>\n",
       "      <td>جمال احمد حمزة خاشقجي 13 اكتوبر 1958 المدينة ا...</td>\n",
       "      <td>في اي مدينة ولد جمال احمد حمزة خاشقجي ال</td>\n",
       "      <td>{'text': ['المدينة المنورة'], 'answer_start': ...</td>\n",
       "    </tr>\n",
       "  </tbody>\n",
       "</table>\n",
       "</div>"
      ],
      "text/plain": [
       "             id        title  \\\n",
       "0  969331847966  جمال خاشقجي   \n",
       "1  115150665555  جمال خاشقجي   \n",
       "2   74212080718  جمال خاشقجي   \n",
       "\n",
       "                                             context  \\\n",
       "0  جمال احمد حمزة خاشقجي 13 اكتوبر 1958 المدينة ا...   \n",
       "1  جمال احمد حمزة خاشقجي 13 اكتوبر 1958 المدينة ا...   \n",
       "2  جمال احمد حمزة خاشقجي 13 اكتوبر 1958 المدينة ا...   \n",
       "\n",
       "                                   question  \\\n",
       "0               من هو جمال احمد حمزة خاشقجي   \n",
       "1    متي ولد جمال احمد حمزة خاشقجي وتوفي ال   \n",
       "2  في اي مدينة ولد جمال احمد حمزة خاشقجي ال   \n",
       "\n",
       "                                             answers  \n",
       "0   {'text': ['صحفي واعلامي'], 'answer_start': [73]}  \n",
       "1  {'text': ['حمزة خاشقجي 13 اكتوبر 1958 المدينة ...  \n",
       "2  {'text': ['المدينة المنورة'], 'answer_start': ...  "
      ]
     },
     "execution_count": 9,
     "metadata": {},
     "output_type": "execute_result"
    }
   ],
   "source": [
    "df = pd.DataFrame(cleaned_dataset[\"train\"])\n",
    "df.head(3)"
   ]
  },
  {
   "cell_type": "code",
   "execution_count": 10,
   "id": "b40b695d",
   "metadata": {},
   "outputs": [
    {
     "data": {
      "application/vnd.jupyter.widget-view+json": {
       "model_id": "dfd20b61c6fc4fa8afa142ac2f61978d",
       "version_major": 2,
       "version_minor": 0
      },
      "text/plain": [
       "Saving the dataset (0/1 shards):   0%|          | 0/693 [00:00<?, ? examples/s]"
      ]
     },
     "metadata": {},
     "output_type": "display_data"
    },
    {
     "data": {
      "application/vnd.jupyter.widget-view+json": {
       "model_id": "f68df31f2b454e02aa23a2229836caa5",
       "version_major": 2,
       "version_minor": 0
      },
      "text/plain": [
       "Saving the dataset (0/1 shards):   0%|          | 0/702 [00:00<?, ? examples/s]"
      ]
     },
     "metadata": {},
     "output_type": "display_data"
    },
    {
     "name": "stdout",
     "output_type": "stream",
     "text": [
      "Cleaned dataset saved at: ../data/processed/arcd_clean\n"
     ]
    }
   ],
   "source": [
    "output_dir = \"../data/processed/arcd_clean\"\n",
    "cleaned_dataset.save_to_disk(output_dir)\n",
    "print(f\"Cleaned dataset saved at: {output_dir}\")"
   ]
  },
  {
   "cell_type": "code",
   "execution_count": 11,
   "id": "bc2ae063",
   "metadata": {
    "scrolled": true
   },
   "outputs": [],
   "source": [
    "from datasets import load_from_disk\n",
    "\n",
    "ds = load_from_disk(\"../data/processed/arcd_clean\")\n",
    "train = ds[\"train\"]"
   ]
  },
  {
   "cell_type": "code",
   "execution_count": 12,
   "id": "356e0843",
   "metadata": {},
   "outputs": [],
   "source": [
    "tokenizer = load_arabic_tokenizer()"
   ]
  },
  {
   "cell_type": "code",
   "execution_count": 13,
   "id": "d1400b4f",
   "metadata": {},
   "outputs": [
    {
     "name": "stderr",
     "output_type": "stream",
     "text": [
      " 48%|██████████████████▌                    | 330/693 [00:00<00:00, 1635.53it/s]Token indices sequence length is longer than the specified maximum sequence length for this model (531 > 512). Running this sequence through the model will result in indexing errors\n",
      "100%|███████████████████████████████████████| 693/693 [00:00<00:00, 1483.24it/s]\n"
     ]
    },
    {
     "data": {
      "application/javascript": [
       "\n",
       "        if (window._pyforest_update_imports_cell) { window._pyforest_update_imports_cell('import numpy as np\\nimport re'); }\n",
       "    "
      ],
      "text/plain": [
       "<IPython.core.display.Javascript object>"
      ]
     },
     "metadata": {},
     "output_type": "display_data"
    },
    {
     "name": "stdout",
     "output_type": "stream",
     "text": [
      "Avg context length: 153.0\n"
     ]
    },
    {
     "data": {
      "application/javascript": [
       "\n",
       "        if (window._pyforest_update_imports_cell) { window._pyforest_update_imports_cell('import numpy as np\\nimport re'); }\n",
       "    "
      ],
      "text/plain": [
       "<IPython.core.display.Javascript object>"
      ]
     },
     "metadata": {},
     "output_type": "display_data"
    },
    {
     "name": "stdout",
     "output_type": "stream",
     "text": [
      "Max context length: 531\n"
     ]
    },
    {
     "data": {
      "application/javascript": [
       "\n",
       "        if (window._pyforest_update_imports_cell) { window._pyforest_update_imports_cell('import numpy as np\\nimport re'); }\n",
       "    "
      ],
      "text/plain": [
       "<IPython.core.display.Javascript object>"
      ]
     },
     "metadata": {},
     "output_type": "display_data"
    },
    {
     "name": "stdout",
     "output_type": "stream",
     "text": [
      "Avg question length: 9.6\n"
     ]
    },
    {
     "data": {
      "application/javascript": [
       "\n",
       "        if (window._pyforest_update_imports_cell) { window._pyforest_update_imports_cell('import numpy as np\\nimport re'); }\n",
       "    "
      ],
      "text/plain": [
       "<IPython.core.display.Javascript object>"
      ]
     },
     "metadata": {},
     "output_type": "display_data"
    },
    {
     "name": "stdout",
     "output_type": "stream",
     "text": [
      "Max question length: 25\n"
     ]
    }
   ],
   "source": [
    "context_lengths = []\n",
    "question_lengths = []\n",
    "\n",
    "for row in tqdm(train, total=len(train)):\n",
    "    context_lengths.append(len(tokenizer(row[\"context\"], add_special_tokens=False)[\"input_ids\"]))\n",
    "    question_lengths.append(len(tokenizer(row[\"question\"], add_special_tokens=False)[\"input_ids\"]))\n",
    "\n",
    "print(f\"Avg context length: {np.mean(context_lengths):.1f}\")\n",
    "print(f\"Max context length: {np.max(context_lengths)}\")\n",
    "print(f\"Avg question length: {np.mean(question_lengths):.1f}\")\n",
    "print(f\"Max question length: {np.max(question_lengths)}\")"
   ]
  },
  {
   "cell_type": "code",
   "execution_count": 14,
   "id": "a6ec17cd",
   "metadata": {},
   "outputs": [
    {
     "data": {
      "image/png": "[encoded data removed]",
      "text/plain": [
       "<Figure size 720x288 with 1 Axes>"
      ]
     },
     "metadata": {
      "needs_background": "light"
     },
     "output_type": "display_data"
    },
    {
     "data": {
      "image/png": "[encoded data removed]",
      "text/plain": [
       "<Figure size 720x288 with 1 Axes>"
      ]
     },
     "metadata": {
      "needs_background": "light"
     },
     "output_type": "display_data"
    }
   ],
   "source": [
    "import matplotlib.pyplot as plt\n",
    "\n",
    "plt.figure(figsize=(10,4))\n",
    "plt.hist(context_lengths, bins=50, color=\"skyblue\", alpha=0.7)\n",
    "plt.title(\"Context Token Lengths\")\n",
    "plt.xlabel(\"Tokens\")\n",
    "plt.ylabel(\"Frequency\")\n",
    "plt.show()\n",
    "\n",
    "plt.figure(figsize=(10,4))\n",
    "plt.hist(question_lengths, bins=50, color=\"orange\", alpha=0.7)\n",
    "plt.title(\"Question Token Lengths\")\n",
    "plt.xlabel(\"Tokens\")\n",
    "plt.ylabel(\"Frequency\")\n",
    "plt.show()"
   ]
  },
  {
   "cell_type": "code",
   "execution_count": 15,
   "id": "cb634567",
   "metadata": {},
   "outputs": [
    {
     "name": "stdout",
     "output_type": "stream",
     "text": [
      "Dataset expanded: 693\n"
     ]
    }
   ],
   "source": [
    "chunked = train.map(\n",
    "    lambda ex: expand_dataset(ex, tokenizer),\n",
    "    batched=False,\n",
    "    remove_columns=train.column_names\n",
    ")\n",
    "print(\"Dataset expanded:\", len(chunked))"
   ]
  },
  {
   "cell_type": "code",
   "execution_count": 16,
   "id": "c26cd3e2",
   "metadata": {},
   "outputs": [
    {
     "data": {
      "application/vnd.jupyter.widget-view+json": {
       "model_id": "d9c9676b17844a2f9a83696289e13efc",
       "version_major": 2,
       "version_minor": 0
      },
      "text/plain": [
       "Map:   0%|          | 0/693 [00:00<?, ? examples/s]"
      ]
     },
     "metadata": {},
     "output_type": "display_data"
    },
    {
     "data": {
      "application/vnd.jupyter.widget-view+json": {
       "model_id": "b48b42c4fe2d431282020e8bcd39bbb1",
       "version_major": 2,
       "version_minor": 0
      },
      "text/plain": [
       "Saving the dataset (0/1 shards):   0%|          | 0/693 [00:00<?, ? examples/s]"
      ]
     },
     "metadata": {},
     "output_type": "display_data"
    },
    {
     "name": "stdout",
     "output_type": "stream",
     "text": [
      "Tokenized dataset saved to: ../data/processed/arcd_tokenized_arabertv2\n"
     ]
    }
   ],
   "source": [
    "tokenized = chunked.map(lambda b: tokenize_batch(b, tokenizer), batched=True)\n",
    "tokenized_dir = \"../data/processed/arcd_tokenized_arabertv2\"\n",
    "tokenized.save_to_disk(tokenized_dir)\n",
    "print(\"Tokenized dataset saved to:\", tokenized_dir)"
   ]
  },
  {
   "cell_type": "code",
   "execution_count": null,
   "id": "74cb3226",
   "metadata": {},
   "outputs": [],
   "source": []
  }
 ],
 "metadata": {
  "kernelspec": {
   "display_name": "Python 3 (ipykernel)",
   "language": "python",
   "name": "python3"
  },
  "language_info": {
   "codemirror_mode": {
    "name": "ipython",
    "version": 3
   },
   "file_extension": ".py",
   "mimetype": "text/x-python",
   "name": "python",
   "nbconvert_exporter": "python",
   "pygments_lexer": "ipython3",
   "version": "3.9.12"
  }
 },
 "nbformat": 4,
 "nbformat_minor": 5
}
