{
 "cells": [
  {
   "cell_type": "code",
   "execution_count": 1,
   "id": "ff9fbc44",
   "metadata": {},
   "outputs": [],
   "source": [
    "from sentence_transformers import SentenceTransformer\n",
    "import numpy as np\n",
    "import pandas as pd\n",
    "from datasets import load_dataset\n",
    "import os"
   ]
  },
  {
   "cell_type": "code",
   "execution_count": 4,
   "id": "6e82ec0f",
   "metadata": {},
   "outputs": [
    {
     "data": {
      "application/vnd.jupyter.widget-view+json": {
       "model_id": "7521817e7d99419da072a7ea9310e0c7",
       "version_major": 2,
       "version_minor": 0
      },
      "text/plain": [
       "Batches:   0%|          | 0/2 [00:00<?, ?it/s]"
      ]
     },
     "metadata": {},
     "output_type": "display_data"
    },
    {
     "data": {
      "application/javascript": [
       "\n",
       "        if (window._pyforest_update_imports_cell) { window._pyforest_update_imports_cell('import pandas as pd'); }\n",
       "    "
      ],
      "text/plain": [
       "<IPython.core.display.Javascript object>"
      ]
     },
     "metadata": {},
     "output_type": "display_data"
    },
    {
     "name": "stdout",
     "output_type": "stream",
     "text": [
      "Saved embeddings to ../data/context_embeddings.npy ✔️\n",
      "Saved metadata to ../data/context_metadata.csv ✔️\n",
      "Embedding shape: (50, 768)\n"
     ]
    }
   ],
   "source": [
    "dataset = load_dataset(\"json\", data_files=\"../data/arcd_sample50.jsonl\")[\"train\"]\n",
    "\n",
    "# We'll use Arabic embedding model from the Omartificial-Intelligence-Space collection in Hugging Face\n",
    "model_name = \"Omartificial-Intelligence-Space/Arabic-Triplet-Matryoshka-V2\"\n",
    "model = SentenceTransformer(model_name)\n",
    "\n",
    "# Extract contexts\n",
    "texts = dataset[\"context\"]\n",
    "\n",
    "# Generate embeddings\n",
    "embeddings = model.encode(texts, show_progress_bar=True, convert_to_numpy=True)\n",
    "\n",
    "# Save embeddings\n",
    "os.makedirs(\"../data\", exist_ok=True)\n",
    "np.save(\"../data/context_embeddings.npy\", embeddings)\n",
    "\n",
    "# Save metadata\n",
    "metadata = pd.DataFrame({\n",
    "    \"id\": dataset[\"id\"],\n",
    "    \"context\": dataset[\"context\"],\n",
    "    \"question\": dataset[\"question\"],\n",
    "    \"answer_text\": [a[\"text\"][0] for a in dataset[\"answers\"]],\n",
    "})\n",
    "metadata.to_csv(\"../data/context_metadata.csv\", index=False)\n",
    "\n",
    "print(\"Saved embeddings to ../data/context_embeddings.npy ✔️\")\n",
    "print(\"Saved metadata to ../data/context_metadata.csv ✔️\")\n",
    "print(\"Embedding shape:\", embeddings.shape)\n"
   ]
  },
  {
   "cell_type": "code",
   "execution_count": null,
   "id": "a5815180",
   "metadata": {},
   "outputs": [],
   "source": [
    "from qdrant_client import QdrantClient\n",
    "from qdrant_client.models import VectorParams, Distance\n",
    "import numpy as np\n",
    "import pandas as pd"
   ]
  },
  {
   "cell_type": "code",
   "execution_count": null,
   "id": "ff201a7e",
   "metadata": {},
   "outputs": [],
   "source": [
    "embeddings = np.load(\"../data/context_embeddings.npy\")\n",
    "metadata = pd.read_csv(\"../data/context_metadata.csv\")\n",
    "\n",
    "client = QdrantClient(host=\"localhost\", port=6333)\n",
    "\n",
    "# create a collection for ARCD embeddings\n",
    "client.recreate_collection(\n",
    "    collection_name=\"arcd_collection\",\n",
    "    vectors_config=VectorParams(size=embeddings.shape[1], distance=Distance.COSINE)\n",
    ")\n",
    "\n",
    "# prepare points for upload\n",
    "points = [\n",
    "    {\n",
    "        \"id\": int(metadata.loc[i, \"id\"]),\n",
    "        \"vector\": embeddings[i].tolist(),\n",
    "        \"payload\": {\n",
    "            \"context\": metadata.loc[i, \"context\"],\n",
    "            \"question\": metadata.loc[i, \"question\"],\n",
    "            \"answer_text\": metadata.loc[i, \"answer_text\"]\n",
    "        }\n",
    "    }\n",
    "    for i in range(len(embeddings))\n",
    "]\n",
    "\n",
    "# upload points\n",
    "client.upsert(\n",
    "    collection_name=\"arcd_collection\",\n",
    "    points=points\n",
    ")\n",
    "\n",
    "print(\"Embeddings uploaded to Qdrant ✔️\")"
   ]
  },
  {
   "cell_type": "code",
   "execution_count": null,
   "id": "f5c7ccda",
   "metadata": {},
   "outputs": [],
   "source": [
    "def retrieve_context(query, top_k=5):\n",
    "    # embed the query using the same embedding model\n",
    "    query_embedding = model.encode([query], convert_to_numpy=True)[0]\n",
    "    \n",
    "    # search Qdrant\n",
    "    results = client.search(\n",
    "        collection_name=\"arcd_collection\",\n",
    "        query_vector=query_embedding,\n",
    "        limit=top_k\n",
    "    )\n",
    "    \n",
    "    # return top similar contexts\n",
    "    retrieved_contexts = [res.payload[\"context\"] for res in results]\n",
    "    return retrieved_contexts\n",
    "\n",
    "# test\n",
    "query = \"ما هو تعريف الذكاء الاصطناعي؟\"\n",
    "retrieved = retrieve_context(query)\n",
    "print(\"Retrieved contexts:\", retrieved)"
   ]
  }
 ],
 "metadata": {
  "kernelspec": {
   "display_name": "Python 3 (ipykernel)",
   "language": "python",
   "name": "python3"
  },
  "language_info": {
   "codemirror_mode": {
    "name": "ipython",
    "version": 3
   },
   "file_extension": ".py",
   "mimetype": "text/x-python",
   "name": "python",
   "nbconvert_exporter": "python",
   "pygments_lexer": "ipython3",
   "version": "3.9.12"
  }
 },
 "nbformat": 4,
 "nbformat_minor": 5
}
