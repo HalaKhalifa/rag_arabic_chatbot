{
 "cells": [
  {
   "cell_type": "code",
   "execution_count": 1,
   "id": "52790095",
   "metadata": {},
   "outputs": [],
   "source": [
    "from datasets import load_dataset\n",
    "import pandas as pd\n",
    "from pprint import pprint\n",
    "from tqdm import tqdm"
   ]
  },
  {
   "cell_type": "code",
   "execution_count": 2,
   "id": "98f0e9dc",
   "metadata": {},
   "outputs": [
    {
     "data": {
      "application/vnd.jupyter.widget-view+json": {
       "model_id": "323d7aa014ed499b880609311ef66503",
       "version_major": 2,
       "version_minor": 0
      },
      "text/plain": [
       "Generating train split:   0%|          | 0/693 [00:00<?, ? examples/s]"
      ]
     },
     "metadata": {},
     "output_type": "display_data"
    },
    {
     "data": {
      "application/vnd.jupyter.widget-view+json": {
       "model_id": "7782847a945f4ca68d97d4c1055a1085",
       "version_major": 2,
       "version_minor": 0
      },
      "text/plain": [
       "Generating validation split:   0%|          | 0/702 [00:00<?, ? examples/s]"
      ]
     },
     "metadata": {},
     "output_type": "display_data"
    },
    {
     "name": "stdout",
     "output_type": "stream",
     "text": [
      "DatasetDict({\n",
      "    train: Dataset({\n",
      "        features: ['id', 'title', 'context', 'question', 'answers'],\n",
      "        num_rows: 693\n",
      "    })\n",
      "    validation: Dataset({\n",
      "        features: ['id', 'title', 'context', 'question', 'answers'],\n",
      "        num_rows: 702\n",
      "    })\n",
      "})\n"
     ]
    }
   ],
   "source": [
    "# load the ARCD dataset from HF\n",
    "ds = load_dataset(\"hsseinmz/arcd\")\n",
    "print(ds)"
   ]
  },
  {
   "cell_type": "code",
   "execution_count": 3,
   "id": "bc6550d4",
   "metadata": {},
   "outputs": [
    {
     "name": "stdout",
     "output_type": "stream",
     "text": [
      "{'id': '969331847966', 'title': 'جمال خاشقجي', 'context': 'جمال أحمد حمزة خاشقجي (13 أكتوبر 1958، المدينة المنورة - 2 أكتوبر 2018)، صحفي وإعلامي سعودي، رأس عدّة مناصب لعدد من الصحف في السعودية، وتقلّد منصب مستشار، كما أنّه مدير عام قناة العرب الإخبارية سابقًا.', 'question': '- من هو جمال أحمد حمزة خاشقجي؟', 'answers': {'text': ['صحفي وإعلامي'], 'answer_start': [73]}}\n",
      "\n",
      "Number of training examples: 693\n"
     ]
    }
   ],
   "source": [
    "print(ds['train'][0])\n",
    "print(\"\\nNumber of training examples:\", len(ds['train']))"
   ]
  },
  {
   "cell_type": "code",
   "execution_count": 4,
   "id": "b40b695d",
   "metadata": {},
   "outputs": [
    {
     "name": "stdout",
     "output_type": "stream",
     "text": [
      "Index(['id', 'title', 'context', 'question', 'answers'], dtype='object')\n"
     ]
    },
    {
     "data": {
      "text/html": [
       "<div>\n",
       "<style scoped>\n",
       "    .dataframe tbody tr th:only-of-type {\n",
       "        vertical-align: middle;\n",
       "    }\n",
       "\n",
       "    .dataframe tbody tr th {\n",
       "        vertical-align: top;\n",
       "    }\n",
       "\n",
       "    .dataframe thead th {\n",
       "        text-align: right;\n",
       "    }\n",
       "</style>\n",
       "<table border=\"1\" class=\"dataframe\">\n",
       "  <thead>\n",
       "    <tr style=\"text-align: right;\">\n",
       "      <th></th>\n",
       "      <th>id</th>\n",
       "      <th>title</th>\n",
       "      <th>context</th>\n",
       "      <th>question</th>\n",
       "      <th>answers</th>\n",
       "    </tr>\n",
       "  </thead>\n",
       "  <tbody>\n",
       "    <tr>\n",
       "      <th>0</th>\n",
       "      <td>969331847966</td>\n",
       "      <td>جمال خاشقجي</td>\n",
       "      <td>جمال أحمد حمزة خاشقجي (13 أكتوبر 1958، المدينة...</td>\n",
       "      <td>- من هو جمال أحمد حمزة خاشقجي؟</td>\n",
       "      <td>{'text': ['صحفي وإعلامي'], 'answer_start': [73]}</td>\n",
       "    </tr>\n",
       "    <tr>\n",
       "      <th>1</th>\n",
       "      <td>115150665555</td>\n",
       "      <td>جمال خاشقجي</td>\n",
       "      <td>جمال أحمد حمزة خاشقجي (13 أكتوبر 1958، المدينة...</td>\n",
       "      <td>- متى ولد جمال أحمد حمزة خاشقجي وتوفي؟ ال</td>\n",
       "      <td>{'text': ['حمزة خاشقجي (13 أكتوبر 1958، المدين...</td>\n",
       "    </tr>\n",
       "    <tr>\n",
       "      <th>2</th>\n",
       "      <td>74212080718</td>\n",
       "      <td>جمال خاشقجي</td>\n",
       "      <td>جمال أحمد حمزة خاشقجي (13 أكتوبر 1958، المدينة...</td>\n",
       "      <td>- في أي مدينة ولد جمال أحمد حمزة خاشقجي؟ ال</td>\n",
       "      <td>{'text': ['المدينة المنورة'], 'answer_start': ...</td>\n",
       "    </tr>\n",
       "    <tr>\n",
       "      <th>3</th>\n",
       "      <td>465699296586</td>\n",
       "      <td>جمال خاشقجي</td>\n",
       "      <td>جمال أحمد حمزة خاشقجي (13 أكتوبر 1958، المدينة...</td>\n",
       "      <td>- في أي صحيفة قام بكتابة عمود منذ عام 2017؟ ال</td>\n",
       "      <td>{'text': ['واشنطن بوست'], 'answer_start': [224]}</td>\n",
       "    </tr>\n",
       "    <tr>\n",
       "      <th>4</th>\n",
       "      <td>564177542570</td>\n",
       "      <td>جمال خاشقجي</td>\n",
       "      <td>جمال أحمد حمزة خاشقجي (13 أكتوبر 1958، المدينة...</td>\n",
       "      <td>- كيف وصفها في الصحف ووسائل الإعلام الدولية؟ ال</td>\n",
       "      <td>{'text': ['وُصف في الصحف وأجهزة الاعلام العالم...</td>\n",
       "    </tr>\n",
       "  </tbody>\n",
       "</table>\n",
       "</div>"
      ],
      "text/plain": [
       "             id        title  \\\n",
       "0  969331847966  جمال خاشقجي   \n",
       "1  115150665555  جمال خاشقجي   \n",
       "2   74212080718  جمال خاشقجي   \n",
       "3  465699296586  جمال خاشقجي   \n",
       "4  564177542570  جمال خاشقجي   \n",
       "\n",
       "                                             context  \\\n",
       "0  جمال أحمد حمزة خاشقجي (13 أكتوبر 1958، المدينة...   \n",
       "1  جمال أحمد حمزة خاشقجي (13 أكتوبر 1958، المدينة...   \n",
       "2  جمال أحمد حمزة خاشقجي (13 أكتوبر 1958، المدينة...   \n",
       "3  جمال أحمد حمزة خاشقجي (13 أكتوبر 1958، المدينة...   \n",
       "4  جمال أحمد حمزة خاشقجي (13 أكتوبر 1958، المدينة...   \n",
       "\n",
       "                                          question  \\\n",
       "0                   - من هو جمال أحمد حمزة خاشقجي؟   \n",
       "1        - متى ولد جمال أحمد حمزة خاشقجي وتوفي؟ ال   \n",
       "2      - في أي مدينة ولد جمال أحمد حمزة خاشقجي؟ ال   \n",
       "3   - في أي صحيفة قام بكتابة عمود منذ عام 2017؟ ال   \n",
       "4  - كيف وصفها في الصحف ووسائل الإعلام الدولية؟ ال   \n",
       "\n",
       "                                             answers  \n",
       "0   {'text': ['صحفي وإعلامي'], 'answer_start': [73]}  \n",
       "1  {'text': ['حمزة خاشقجي (13 أكتوبر 1958، المدين...  \n",
       "2  {'text': ['المدينة المنورة'], 'answer_start': ...  \n",
       "3   {'text': ['واشنطن بوست'], 'answer_start': [224]}  \n",
       "4  {'text': ['وُصف في الصحف وأجهزة الاعلام العالم...  "
      ]
     },
     "metadata": {},
     "output_type": "display_data"
    },
    {
     "name": "stdout",
     "output_type": "stream",
     "text": [
      "Saved to data/arcd.jsonl\n"
     ]
    }
   ],
   "source": [
    "# Convert to pandas DataFrame for easy inspection and then save to data/arcd.jsonl\n",
    "df = pd.DataFrame(ds['train'])\n",
    "print(df.columns)\n",
    "display(df.head())\n",
    "\n",
    "df.to_json(\"../data/arcd.jsonl\", orient=\"records\", lines=True, force_ascii=False) # force_ascii=False used to preserve Arabic characters\n",
    "\n",
    "print(\"Saved to data/arcd.jsonl\")"
   ]
  },
  {
   "cell_type": "code",
   "execution_count": 5,
   "id": "bc2ae063",
   "metadata": {},
   "outputs": [],
   "source": [
    "import re\n",
    "import unicodedata\n",
    "\n",
    "def normalize_arabic(text):\n",
    "    # basic normalization: remove tashkeel (diacritics), normalize alef variants, remove tatweel\n",
    "    text = text.strip()\n",
    "    # remove diacritics\n",
    "    text = re.sub(r'[\\u0617-\\u061A\\u064B-\\u0652]', '', text)\n",
    "    # normalize alef forms\n",
    "    text = re.sub('[إأآا]', 'ا', text)\n",
    "    text = re.sub('ى', 'ي', text)\n",
    "    text = text.replace('ـ', '')  # tatweel\n",
    "    # optional: normalize hamza forms\n",
    "    text = re.sub('[ؤئء]', 'ء', text)\n",
    "    # collapse whitespace\n",
    "    text = ' '.join(text.split())\n",
    "    return text"
   ]
  },
  {
   "cell_type": "code",
   "execution_count": 6,
   "id": "31e88160",
   "metadata": {},
   "outputs": [
    {
     "name": "stdout",
     "output_type": "stream",
     "text": [
      "Saved 50-sample to data/arcd_sample50.jsonl\n"
     ]
    }
   ],
   "source": [
    "sample_df = df.sample(50, random_state=42)\n",
    "sample_df.to_json(\"../data/arcd_sample50.jsonl\", orient=\"records\", lines=True, force_ascii=False)\n",
    "print(\"Saved 50-sample to data/arcd_sample50.jsonl\")"
   ]
  },
  {
   "cell_type": "code",
   "execution_count": null,
   "id": "ae7e81fd",
   "metadata": {},
   "outputs": [],
   "source": [
    "from datasets import load_dataset\n",
    "from transformers import AutoTokenizer\n",
    "\n",
    "dataset = load_dataset(\"json\", data_files=\"../data/arcd_sample50.jsonl\")[\"train\"]\n",
    "\n",
    "tokenizer = AutoTokenizer.from_pretrained(\"asafaya/bert-base-arabic\")\n",
    "\n",
    "def preprocess(example):\n",
    "    return tokenizer(\n",
    "        example[\"question\"],\n",
    "        example[\"context\"],\n",
    "        padding=\"max_length\",\n",
    "        truncation=True,\n",
    "        max_length=256,\n",
    "        return_tensors=\"pt\"\n",
    "    )\n",
    "\n",
    "tokenized = dataset.map(preprocess, batched=True)\n",
    "\n",
    "print(tokenized[0].keys())\n",
    "print(tokenized[0][\"input_ids\"][:30])"
   ]
  }
 ],
 "metadata": {
  "kernelspec": {
   "display_name": "Python 3 (ipykernel)",
   "language": "python",
   "name": "python3"
  },
  "language_info": {
   "codemirror_mode": {
    "name": "ipython",
    "version": 3
   },
   "file_extension": ".py",
   "mimetype": "text/x-python",
   "name": "python",
   "nbconvert_exporter": "python",
   "pygments_lexer": "ipython3",
   "version": "3.9.12"
  }
 },
 "nbformat": 4,
 "nbformat_minor": 5
}
