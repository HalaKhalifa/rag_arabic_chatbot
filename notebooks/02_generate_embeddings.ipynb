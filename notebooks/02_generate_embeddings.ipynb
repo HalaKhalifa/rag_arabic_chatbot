{
 "cells": [
  {
   "cell_type": "code",
   "execution_count": 1,
   "id": "ff9fbc44",
   "metadata": {},
   "outputs": [],
   "source": [
    "import os, sys\n",
    "sys.path.append(os.path.abspath(\"..\"))"
   ]
  },
  {
   "cell_type": "code",
   "execution_count": 2,
   "id": "12bcba51",
   "metadata": {},
   "outputs": [],
   "source": [
    "from datasets import load_from_disk\n",
    "from sentence_transformers import SentenceTransformer\n",
    "import numpy as np\n",
    "from tqdm import tqdm\n",
    "from qdrant_client import QdrantClient, models"
   ]
  },
  {
   "cell_type": "code",
   "execution_count": 3,
   "id": "66e2ce28",
   "metadata": {},
   "outputs": [
    {
     "name": "stdout",
     "output_type": "stream",
     "text": [
      "Total answers: 693\n",
      "Example: صحفي واعلامي\n"
     ]
    }
   ],
   "source": [
    "dataset = load_from_disk(\"../data/processed/arcd_clean\")\n",
    "train = dataset[\"train\"]\n",
    "answers = [a[\"text\"][0] if isinstance(a[\"text\"], list) else a[\"text\"]\n",
    "            for a in train[\"answers\"]]\n",
    "\n",
    "print(f\"Total answers: {len(answers)}\")\n",
    "print(\"Example:\", answers[0])"
   ]
  },
  {
   "cell_type": "code",
   "execution_count": 4,
   "id": "04461d7e",
   "metadata": {},
   "outputs": [],
   "source": [
    "models_to_test = {\n",
    "    \"triplet\": \"Omartificial-Intelligence-Space/Arabic-Triplet-Matryoshka-V2\",\n",
    "    \"e5_base\": \"intfloat/multilingual-e5-base\"\n",
    "}\n",
    "\n",
    "query = \"ما هي عاصمة فلسطين؟\""
   ]
  },
  {
   "cell_type": "code",
   "execution_count": 5,
   "id": "0aae74c4",
   "metadata": {},
   "outputs": [],
   "source": [
    "def test_model(model_name, answers, query, limit=3):\n",
    "    print(f\"\\n🔻 Testing model: {model_name}\")\n",
    "    model = SentenceTransformer(model_name)\n",
    "    \n",
    "    # generate embeddings\n",
    "    embeddings = model.encode(\n",
    "        answers,\n",
    "        show_progress_bar=True,\n",
    "        batch_size=16,\n",
    "        convert_to_numpy=True,\n",
    "        normalize_embeddings=True,\n",
    "    )\n",
    "    print(\"Embeddings shape:\", embeddings.shape)\n",
    "\n",
    "    # build Qdrant collection\n",
    "    client = QdrantClient(host=\"localhost\", port=6333)\n",
    "    collection_name = \"temp_test_collection\"\n",
    "    client.recreate_collection(\n",
    "        collection_name=collection_name,\n",
    "        vectors_config=models.VectorParams(\n",
    "            size=embeddings.shape[1],\n",
    "            distance=models.Distance.COSINE\n",
    "        ),\n",
    "    )\n",
    "\n",
    "    payloads = [{\"answer_text\": ans, \"id\": i} for i, ans in enumerate(answers)]\n",
    "    client.upsert(\n",
    "        collection_name=collection_name,\n",
    "        points=models.Batch(\n",
    "            ids=list(range(len(embeddings))),\n",
    "            vectors=embeddings.tolist(),\n",
    "            payloads=payloads,\n",
    "        ),\n",
    "    )\n",
    "\n",
    "    # query\n",
    "    query_vec = model.encode([\"query: \" + query], normalize_embeddings=True)\n",
    "    results = client.search(\n",
    "        collection_name=collection_name,\n",
    "        query_vector=query_vec[0],\n",
    "        limit=limit\n",
    "    )\n",
    "\n",
    "    print(f\"\\nQuery: {query}\")\n",
    "    for r in results:\n",
    "        print(\"→\", r.payload[\"answer_text\"], \"| Score:\", round(r.score, 3))\n",
    "\n",
    "    # return embeddings\n",
    "    return model, embeddings"
   ]
  },
  {
   "cell_type": "code",
   "execution_count": 6,
   "id": "926a87a6",
   "metadata": {},
   "outputs": [
    {
     "name": "stdout",
     "output_type": "stream",
     "text": [
      "\n",
      "🔻 Testing model: Omartificial-Intelligence-Space/Arabic-Triplet-Matryoshka-V2\n"
     ]
    },
    {
     "data": {
      "application/vnd.jupyter.widget-view+json": {
       "model_id": "0d6a695407cc4614bb18337c49862955",
       "version_major": 2,
       "version_minor": 0
      },
      "text/plain": [
       "Batches:   0%|          | 0/44 [00:00<?, ?it/s]"
      ]
     },
     "metadata": {},
     "output_type": "display_data"
    },
    {
     "name": "stdout",
     "output_type": "stream",
     "text": [
      "Embeddings shape: (693, 768)\n"
     ]
    },
    {
     "name": "stderr",
     "output_type": "stream",
     "text": [
      "/var/folders/jv/c9vh4bnj087cpqc52674mcsh0000gn/T/ipykernel_2942/713825613.py:18: DeprecationWarning: `recreate_collection` method is deprecated and will be removed in the future. Use `collection_exists` to check collection existence and `create_collection` instead.\n",
      "  client.recreate_collection(\n",
      "/var/folders/jv/c9vh4bnj087cpqc52674mcsh0000gn/T/ipykernel_2942/713825613.py:38: DeprecationWarning: `search` method is deprecated and will be removed in the future. Use `query_points` instead.\n",
      "  results = client.search(\n"
     ]
    },
    {
     "name": "stdout",
     "output_type": "stream",
     "text": [
      "\n",
      "Query: ما هي عاصمة فلسطين؟\n",
      "→ معظم اراضي فلسطين ولبنان بما فيها مدينة القدس | Score: 0.498\n",
      "→ فلسطين ولبنان | Score: 0.413\n",
      "→ هي القاهرة الكبري | Score: 0.319\n",
      "\n",
      "🔻 Testing model: intfloat/multilingual-e5-base\n"
     ]
    },
    {
     "data": {
      "application/vnd.jupyter.widget-view+json": {
       "model_id": "5350f1bc5631419d89d47e4e50876d4e",
       "version_major": 2,
       "version_minor": 0
      },
      "text/plain": [
       "Batches:   0%|          | 0/44 [00:00<?, ?it/s]"
      ]
     },
     "metadata": {},
     "output_type": "display_data"
    },
    {
     "name": "stdout",
     "output_type": "stream",
     "text": [
      "Embeddings shape: (693, 768)\n",
      "\n",
      "Query: ما هي عاصمة فلسطين؟\n",
      "→ معظم اراضي فلسطين ولبنان بما فيها مدينة القدس | Score: 0.825\n",
      "→ فلسطين ولبنان | Score: 0.815\n",
      "→ وفلسطين المحتلة اسراييل | Score: 0.794\n"
     ]
    }
   ],
   "source": [
    "results_dict = {}\n",
    "\n",
    "for key, model_name in models_to_test.items():\n",
    "    model, embeddings = test_model(model_name, answers, query)\n",
    "    results_dict[key] = {\n",
    "        \"model_name\": model_name,\n",
    "        \"model_obj\": model,\n",
    "        \"embeddings\": embeddings\n",
    "    }"
   ]
  },
  {
   "cell_type": "markdown",
   "id": "a22efd13",
   "metadata": {},
   "source": [
    "### Final Embedding Generation and Storage (Best Model)"
   ]
  },
  {
   "cell_type": "code",
   "execution_count": 7,
   "id": "c9be55fb",
   "metadata": {},
   "outputs": [
    {
     "data": {
      "application/vnd.jupyter.widget-view+json": {
       "model_id": "07360cbeaa2b45da88729fd9cbc5f6b4",
       "version_major": 2,
       "version_minor": 0
      },
      "text/plain": [
       "Batches:   0%|          | 0/44 [00:00<?, ?it/s]"
      ]
     },
     "metadata": {},
     "output_type": "display_data"
    },
    {
     "name": "stderr",
     "output_type": "stream",
     "text": [
      "/var/folders/jv/c9vh4bnj087cpqc52674mcsh0000gn/T/ipykernel_2942/3469084275.py:18: DeprecationWarning: `recreate_collection` method is deprecated and will be removed in the future. Use `collection_exists` to check collection existence and `create_collection` instead.\n",
      "  client.recreate_collection(\n"
     ]
    },
    {
     "name": "stdout",
     "output_type": "stream",
     "text": [
      "Stored 693 answer embeddings in Qdrant.\n"
     ]
    }
   ],
   "source": [
    "best_model_name = \"intfloat/multilingual-e5-base\"\n",
    "model = SentenceTransformer(best_model_name)\n",
    "\n",
    "client = QdrantClient(host=\"localhost\", port=6333)\n",
    "\n",
    "# generate and store ANSWER embeddings\n",
    "answers = [a[\"text\"][0] if isinstance(a[\"text\"], list) else a[\"text\"]\n",
    "            for a in train[\"answers\"]]\n",
    "\n",
    "ans_embeddings = model.encode(\n",
    "    answers,\n",
    "    show_progress_bar=True,\n",
    "    batch_size=16,\n",
    "    convert_to_numpy=True,\n",
    "    normalize_embeddings=True,\n",
    ")\n",
    "\n",
    "client.recreate_collection(\n",
    "    collection_name=\"arcd_answers\",\n",
    "    vectors_config=models.VectorParams(\n",
    "        size=ans_embeddings.shape[1],\n",
    "        distance=models.Distance.COSINE\n",
    "    ),\n",
    ")\n",
    "\n",
    "payloads = [{\"answer_text\": ans, \"id\": i} for i, ans in enumerate(answers)]\n",
    "client.upsert(\n",
    "    collection_name=\"arcd_answers\",\n",
    "    points=models.Batch(\n",
    "        ids=list(range(len(ans_embeddings))),\n",
    "        vectors=ans_embeddings.tolist(),\n",
    "        payloads=payloads,\n",
    "    ),\n",
    ")\n",
    "\n",
    "print(f\"Stored {len(ans_embeddings)} answer embeddings in Qdrant.\")"
   ]
  },
  {
   "cell_type": "code",
   "execution_count": 8,
   "id": "aa3643c2",
   "metadata": {},
   "outputs": [
    {
     "data": {
      "application/vnd.jupyter.widget-view+json": {
       "model_id": "2c5154758bef4a1f9db984c3f3a5327e",
       "version_major": 2,
       "version_minor": 0
      },
      "text/plain": [
       "Batches:   0%|          | 0/44 [00:00<?, ?it/s]"
      ]
     },
     "metadata": {},
     "output_type": "display_data"
    },
    {
     "name": "stderr",
     "output_type": "stream",
     "text": [
      "/var/folders/jv/c9vh4bnj087cpqc52674mcsh0000gn/T/ipykernel_2942/52649018.py:12: DeprecationWarning: `recreate_collection` method is deprecated and will be removed in the future. Use `collection_exists` to check collection existence and `create_collection` instead.\n",
      "  client.recreate_collection(\n"
     ]
    },
    {
     "name": "stdout",
     "output_type": "stream",
     "text": [
      "Stored 693 context embeddings in Qdrant.\n"
     ]
    }
   ],
   "source": [
    "# generate and store CONTEXT embeddings\n",
    "contexts = [c for c in train[\"context\"]]\n",
    "\n",
    "ctx_embeddings = model.encode(\n",
    "    contexts,\n",
    "    show_progress_bar=True,\n",
    "    batch_size=16,\n",
    "    convert_to_numpy=True,\n",
    "    normalize_embeddings=True,\n",
    ")\n",
    "\n",
    "client.recreate_collection(\n",
    "    collection_name=\"arcd_contexts\",\n",
    "    vectors_config=models.VectorParams(\n",
    "        size=ctx_embeddings.shape[1],\n",
    "        distance=models.Distance.COSINE\n",
    "    ),\n",
    ")\n",
    "\n",
    "payloads = [{\"context_text\": ctx, \"id\": i} for i, ctx in enumerate(contexts)]\n",
    "client.upsert(\n",
    "    collection_name=\"arcd_contexts\",\n",
    "    points=models.Batch(\n",
    "        ids=list(range(len(ctx_embeddings))),\n",
    "        vectors=ctx_embeddings.tolist(),\n",
    "        payloads=payloads,\n",
    "    ),\n",
    ")\n",
    "\n",
    "print(f\"Stored {len(ctx_embeddings)} context embeddings in Qdrant.\")"
   ]
  },
  {
   "cell_type": "code",
   "execution_count": 9,
   "id": "a003cc51",
   "metadata": {},
   "outputs": [
    {
     "name": "stdout",
     "output_type": "stream",
     "text": [
      "\n",
      "🔻From Answers:\n",
      "→ معظم اراضي فلسطين ولبنان بما فيها مدينة القدس | Score: 0.825\n",
      "→ فلسطين ولبنان | Score: 0.815\n",
      "→ وفلسطين المحتلة اسراييل | Score: 0.794\n",
      "\n",
      "🔻From Contexts:\n"
     ]
    },
    {
     "name": "stderr",
     "output_type": "stream",
     "text": [
      "/var/folders/jv/c9vh4bnj087cpqc52674mcsh0000gn/T/ipykernel_2942/2517720341.py:5: DeprecationWarning: `search` method is deprecated and will be removed in the future. Use `query_points` instead.\n",
      "  for r in client.search(\"arcd_answers\", query_vector=query_vec[0], limit=3):\n",
      "/var/folders/jv/c9vh4bnj087cpqc52674mcsh0000gn/T/ipykernel_2942/2517720341.py:9: DeprecationWarning: `search` method is deprecated and will be removed in the future. Use `query_points` instead.\n",
      "  for r in client.search(\"arcd_contexts\", query_vector=query_vec[0], limit=3):\n"
     ]
    },
    {
     "name": "stdout",
     "output_type": "stream",
     "text": [
      "→ فلسطين بالعبرية او حسب السياق باليونانية هي منطقة جغرافية في غرب اسيا عادة ما تشمل اسراييل والضفة الغربية وقطاع غزة وفي بعض التعاريف بعض اجزاء من غرب الاردن مشكلة الجزء الجنوبي الغربي من بلاد الشام تق | Score: 0.81\n",
      "→ فلسطين بالعبرية او حسب السياق باليونانية هي منطقة جغرافية في غرب اسيا عادة ما تشمل اسراييل والضفة الغربية وقطاع غزة وفي بعض التعاريف بعض اجزاء من غرب الاردن مشكلة الجزء الجنوبي الغربي من بلاد الشام تق | Score: 0.81\n",
      "→ فلسطين بالعبرية او حسب السياق باليونانية هي منطقة جغرافية في غرب اسيا عادة ما تشمل اسراييل والضفة الغربية وقطاع غزة وفي بعض التعاريف بعض اجزاء من غرب الاردن مشكلة الجزء الجنوبي الغربي من بلاد الشام تق | Score: 0.81\n"
     ]
    }
   ],
   "source": [
    "query = \"ما هي عاصمة فلسطين؟\"\n",
    "query_vec = model.encode([\"query: \" + query], normalize_embeddings=True)\n",
    "\n",
    "print(\"\\n🔻From Answers:\")\n",
    "for r in client.search(\"arcd_answers\", query_vector=query_vec[0], limit=3):\n",
    "    print(\"→\", r.payload[\"answer_text\"], \"| Score:\", round(r.score, 3))\n",
    "\n",
    "print(\"\\n🔻From Contexts:\")\n",
    "for r in client.search(\"arcd_contexts\", query_vector=query_vec[0], limit=3):\n",
    "    print(\"→\", r.payload[\"context_text\"][:200], \"| Score:\", round(r.score, 3))"
   ]
  },
  {
   "cell_type": "code",
   "execution_count": null,
   "id": "af7941b6",
   "metadata": {},
   "outputs": [],
   "source": []
  }
 ],
 "metadata": {
  "kernelspec": {
   "display_name": "Python 3 (ipykernel)",
   "language": "python",
   "name": "python3"
  },
  "language_info": {
   "codemirror_mode": {
    "name": "ipython",
    "version": 3
   },
   "file_extension": ".py",
   "mimetype": "text/x-python",
   "name": "python",
   "nbconvert_exporter": "python",
   "pygments_lexer": "ipython3",
   "version": "3.9.12"
  }
 },
 "nbformat": 4,
 "nbformat_minor": 5
}
